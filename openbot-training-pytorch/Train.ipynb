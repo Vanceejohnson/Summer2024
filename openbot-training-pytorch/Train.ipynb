{
 "cells": [
  {
   "cell_type": "markdown",
   "metadata": {},
   "source": [
    "### Path Setup"
   ]
  },
  {
   "cell_type": "code",
   "execution_count": null,
   "metadata": {},
   "outputs": [],
   "source": [
    "# Change these path\n",
    "MODEL_SAVE_PATH = \"models\"\n",
    "\n",
    "DATA = [\n",
    "    # TFRecord or Dataset Directory\n",
    "]"
   ]
  },
  {
   "cell_type": "markdown",
   "metadata": {},
   "source": [
    "### Includes"
   ]
  },
  {
   "cell_type": "code",
   "execution_count": null,
   "metadata": {
    "tags": []
   },
   "outputs": [],
   "source": [
    "import pathlib\n",
    "\n",
    "# torch as to be import at very beggining to make sure\n",
    "import torch\n",
    "import numpy as np\n",
    "from dataloader import FastDataLoader\n",
    "from device import device\n",
    "from matplotlib import pyplot as plt\n",
    "from models import get_model\n",
    "from numpy import random\n",
    "from sampler import load_full_dataset\n",
    "from scipy import signal\n",
    "from torch.optim import Adam\n",
    "from torch.utils.data import DataLoader"
   ]
  },
  {
   "cell_type": "markdown",
   "metadata": {},
   "source": [
    "### Initalize Data Sampler"
   ]
  },
  {
   "cell_type": "code",
   "execution_count": null,
   "metadata": {},
   "outputs": [],
   "source": [
    "batch_size = 256\n",
    "trainset, testset = load_full_dataset(DATA, train_test_split=0.8)"
   ]
  },
  {
   "cell_type": "code",
   "execution_count": null,
   "metadata": {},
   "outputs": [],
   "source": [
    "plt.style.use(\"classic\")\n",
    "fig, axes = plt.subplots(2, 6, figsize=(25, 8))\n",
    "axes = axes.flatten()\n",
    "for i in range(12):\n",
    "    img, steering, throttle = trainset[random.randint(0, len(trainset))]\n",
    "    axes[i].imshow(img.permute(1, 2, 0).cpu().numpy())\n",
    "    axes[i].axis(\"off\")\n",
    "    axes[i].set_title(f\"{steering: .4f}, {throttle: .4f}\")"
   ]
  },
  {
   "cell_type": "code",
   "execution_count": null,
   "metadata": {},
   "outputs": [],
   "source": [
    "from metrics import angle_metric, direction_metric, loss_fn\n",
    "from train import Trainer\n",
    "\n",
    "import wandb\n",
    "\n",
    "wandb.init()"
   ]
  },
  {
   "cell_type": "markdown",
   "metadata": {},
   "source": [
    "### Train"
   ]
  },
  {
   "cell_type": "code",
   "execution_count": null,
   "metadata": {},
   "outputs": [],
   "source": [
    "trainers = {}"
   ]
  },
  {
   "cell_type": "code",
   "execution_count": null,
   "metadata": {},
   "outputs": [],
   "source": [
    "all_models = [\n",
    "    # Pytorch Hub\n",
    "    # \"alexnet\",\n",
    "    # \"vgg16_bn\",\n",
    "    \"resnet34\",\n",
    "    \"googlenet\",\n",
    "    # Custom\n",
    "    \"cnn\"\n",
    "]\n",
    "\n",
    "save_dir = pathlib.Path(MODEL_SAVE_PATH)\n",
    "load_trainer = True\n",
    "\n",
    "for model_name in all_models:\n",
    "    print(f\"Training {model_name}\")\n",
    "\n",
    "    if model_name in trainers:\n",
    "        trainer = trainers[model_name]\n",
    "        # move the model back to device\n",
    "        trainer.model = trainer.model.to(device)\n",
    "        trainer.optim.load_state_dict(trainer.optim.state_dict())\n",
    "\n",
    "    else:\n",
    "        model = get_model(model_name)().to(device)\n",
    "        optimizer = Adam(model.parameters(), lr=1e-4)\n",
    "        trainer = Trainer(save_dir, model, optimizer, turning_weight=5, epochs=1000)\n",
    "        if load_trainer:\n",
    "            print(f\"Loading trainer\")\n",
    "            trainer.load()\n",
    "\n",
    "        trainers[model_name] = trainer\n",
    "        del model, optimizer\n",
    "\n",
    "    if trainer.i < trainer.epochs:\n",
    "        try:\n",
    "            sampler_train = FastDataLoader(trainset, batch_size=batch_size, shuffle=True, num_workers=4)\n",
    "            sampler_test = FastDataLoader(testset, batch_size=batch_size, shuffle=True, num_workers=4)\n",
    "            trainer.train(sampler_train, sampler_test)\n",
    "        finally:\n",
    "            # Move the model to CPU\n",
    "            trainer.model = trainer.model.to('cpu')\n",
    "            trainer.optim.load_state_dict(trainer.optim.state_dict())\n",
    "            trainer.save()\n",
    "\n",
    "            try:\n",
    "                # Close iterator\n",
    "                sampler_test.close()\n",
    "                sampler_train.close()\n",
    "            except:\n",
    "                pass"
   ]
  },
  {
   "cell_type": "code",
   "execution_count": null,
   "metadata": {},
   "outputs": [],
   "source": [
    "# Reload\n",
    "import importlib\n",
    "import models\n",
    "importlib.reload(models)\n",
    "from models import get_model"
   ]
  },
  {
   "cell_type": "code",
   "execution_count": null,
   "metadata": {},
   "outputs": [],
   "source": [
    "# Clean cache\n",
    "g = globals()\n",
    "del_list = [\"model\", \"trainer\", \"optimizer\"] + [f\"_{i}\" for i in range(1000)] + [f\"_i{i}\" for i in range(1000)]\n",
    "for i in del_list:\n",
    "    if i in g:\n",
    "        del g[i]\n",
    "\n",
    "import gc\n",
    "gc.collect()\n",
    "gc.collect()\n",
    "torch.cuda.empty_cache()"
   ]
  },
  {
   "cell_type": "markdown",
   "metadata": {},
   "source": [
    "### Test"
   ]
  },
  {
   "cell_type": "code",
   "execution_count": null,
   "metadata": {},
   "outputs": [],
   "source": [
    "test_sampler = DataLoader(testset, batch_size=12, shuffle=True)\n",
    "test_iterator = iter(test_sampler)"
   ]
  },
  {
   "cell_type": "code",
   "execution_count": null,
   "metadata": {},
   "outputs": [],
   "source": [
    "trainer = trainers[\"cnn\"]\n",
    "model = trainer.model.to(device)\n",
    "train_log = np.array(trainer.train_log)\n",
    "validation_log = np.array(trainer.validation_log)"
   ]
  },
  {
   "cell_type": "code",
   "execution_count": null,
   "metadata": {},
   "outputs": [],
   "source": [
    "img, steering, throttle = next(test_iterator)\n",
    "Y = torch.stack([steering, throttle], dim=1).type(torch.float32).to(device)\n",
    "X = img.to(device) / 256\n",
    "with torch.no_grad():\n",
    "    Y_pred = model(X)\n",
    "\n",
    "val_loss = loss_fn(Y[:, 0], Y[:, 1], Y_pred[:, 0], Y_pred[:, 1], throttle_weight=0.2)\n",
    "print(val_loss)\n",
    "\n",
    "plt.style.use(\"classic\")\n",
    "fig, axes = plt.subplots(2, 6, figsize=(40, 8))\n",
    "axes = axes.flatten()\n",
    "p_fn = lambda x: ','.join([f'{i: .4f}' for i in x])\n",
    "\n",
    "for i in range(12):\n",
    "    axes[i].imshow(img[i].permute(1, 2, 0).cpu().numpy())\n",
    "    axes[i].axis(\"off\")\n",
    "    axes[i].set_title(f\"Model:{p_fn(Y_pred[i].tolist())}\\nTrue: {p_fn([steering[i], throttle[i]])}\")"
   ]
  },
  {
   "cell_type": "markdown",
   "metadata": {},
   "source": [
    "### Plot Loss"
   ]
  },
  {
   "cell_type": "code",
   "execution_count": null,
   "metadata": {},
   "outputs": [],
   "source": [
    "plt.style.use(\"classic\")\n",
    "plt.figure(figsize=(25, 4))\n",
    "plt.subplot(1, 3, 1)\n",
    "plt.plot(train_log[:, 0], '.', markersize=1, color=\"black\")\n",
    "plt.yscale('log')\n",
    "\n",
    "plt.subplot(1, 3, 2)\n",
    "plt.plot(validation_log[:, 0], '-', markersize=3, color=\"black\")\n",
    "plt.yscale(\"log\")\n",
    "\n",
    "plt.subplot(1, 3, 3)\n",
    "plt.plot(signal.convolve(train_log[:, 0], np.ones(100) / 100, 'valid'), '.', markersize=1, color=\"red\")"
   ]
  },
  {
   "cell_type": "markdown",
   "metadata": {},
   "source": [
    "### Plot Angle Metric"
   ]
  },
  {
   "cell_type": "code",
   "execution_count": null,
   "metadata": {},
   "outputs": [],
   "source": [
    "plt.style.use(\"classic\")\n",
    "plt.figure(figsize=(25, 4))\n",
    "plt.subplot(1, 3, 1)\n",
    "plt.plot(train_log[:, 1], '.', markersize=1, color=\"black\")\n",
    "\n",
    "plt.subplot(1, 3, 2)\n",
    "plt.plot(validation_log[:, 1], '-', markersize=3, color=\"black\")\n",
    "\n",
    "plt.subplot(1, 3, 3)\n",
    "plt.plot(signal.convolve(train_log[:, 1], np.ones(100) / 100, 'valid'), '.', markersize=1, color=\"red\")"
   ]
  },
  {
   "cell_type": "markdown",
   "metadata": {},
   "source": [
    "### Plot Direction Metric"
   ]
  },
  {
   "cell_type": "code",
   "execution_count": null,
   "metadata": {},
   "outputs": [],
   "source": [
    "plt.style.use(\"classic\")\n",
    "plt.figure(figsize=(25, 4))\n",
    "plt.subplot(1, 3, 1)\n",
    "plt.plot(train_log[:, 2], '.', markersize=1, color=\"black\")\n",
    "\n",
    "plt.subplot(1, 3, 2)\n",
    "plt.plot(validation_log[:, 2], '-', markersize=3, color=\"black\")\n",
    "\n",
    "plt.subplot(1, 3, 3)\n",
    "plt.plot(signal.convolve(train_log[:, 2], np.ones(100) / 100, 'valid'), '.', markersize=1, color=\"red\")"
   ]
  }
 ],
 "metadata": {
  "kernelspec": {
   "display_name": "pytorch",
   "language": "python",
   "name": "python3"
  },
  "language_info": {
   "codemirror_mode": {
    "name": "ipython",
    "version": 3
   },
   "file_extension": ".py",
   "mimetype": "text/x-python",
   "name": "python",
   "nbconvert_exporter": "python",
   "pygments_lexer": "ipython3",
   "version": "3.11.0"
  }
 },
 "nbformat": 4,
 "nbformat_minor": 4
}
