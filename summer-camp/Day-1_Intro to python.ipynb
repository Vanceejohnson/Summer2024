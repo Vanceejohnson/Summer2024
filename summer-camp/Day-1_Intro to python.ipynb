{
 "cells": [
  {
   "attachments": {},
   "cell_type": "markdown",
   "id": "f2b50ce8",
   "metadata": {},
   "source": [
    "## Python\n",
    "### Today's lecture. \n",
    "\n",
    "Python is a programming language that has been growing in popularity in recent years. There are many reasons for this, but it mostly comes down to Python being easy to learn and use as well as the fact that Python has a very active community that continually develops and improves amazing extensions to Python!\n",
    "\n",
    "Python has become one of the most frequently used languages in the world of data science due to the ability to almost instantly apply it to a large number of data science problems. When asking stakeholders in companies in different industries and of various sizes what language they would like their data scientists to know when coming in, they almost all agree that Python is the best choice. If you are going to learn one language (something everyone should do!), Python would be a great choice.\n",
    "\n",
    "From this language, other languages, features and packages have been created: Ipython, Pandas, Numpy, Matplotlib, and others that we will be using during this course. For more info please visit https://www.python.org/doc/\n"
   ]
  },
  {
   "attachments": {},
   "cell_type": "markdown",
   "id": "6d1b3e0f",
   "metadata": {
    "raw_mimetype": "text/x-python"
   },
   "source": [
    "### Variables, operations and data types\n",
    "Variables are used to store data. \n",
    "The data can be of a variety of types:  $e=mc^2$\n",
    "\n",
    "- Integer numbers\n",
    "- Floating (decimal numbers)\n",
    "- Strings\n",
    "\n",
    "Let's create three variables, one of each type, with 3 different names:"
   ]
  },
  {
   "cell_type": "code",
   "execution_count": 7,
   "id": "d228aa8d",
   "metadata": {},
   "outputs": [],
   "source": [
    "some_integer = 5\n",
    "some_float = 7.12\n",
    "some_string = \"Student\""
   ]
  },
  {
   "attachments": {},
   "cell_type": "markdown",
   "id": "d6cfd09c",
   "metadata": {},
   "source": [
    "Here, '=' is the assignment operator that stores the value in right to the variable in left. \n",
    "\n",
    "\n",
    "we can print the value that a variable is storing using the print function."
   ]
  },
  {
   "cell_type": "code",
   "execution_count": 5,
   "id": "42732e5c",
   "metadata": {},
   "outputs": [
    {
     "name": "stdout",
     "output_type": "stream",
     "text": [
      "5\n"
     ]
    }
   ],
   "source": [
    "print(some_integer)"
   ]
  },
  {
   "attachments": {},
   "cell_type": "markdown",
   "id": "d34c3221",
   "metadata": {},
   "source": [
    "We can find the type of a variable using the type function."
   ]
  },
  {
   "cell_type": "code",
   "execution_count": 8,
   "id": "a95b7a83",
   "metadata": {},
   "outputs": [
    {
     "data": {
      "text/plain": [
       "int"
      ]
     },
     "execution_count": 8,
     "metadata": {},
     "output_type": "execute_result"
    }
   ],
   "source": [
    "type(some_integer)"
   ]
  },
  {
   "attachments": {},
   "cell_type": "markdown",
   "id": "cb5708b4",
   "metadata": {},
   "source": [
    "There are also other **data structures**:\n",
    "\n",
    "- Lists (sometimes refered to as \"arrays\", but look up the difference)\n",
    "- Dictionaries\n",
    "- Sets\n"
   ]
  },
  {
   "cell_type": "code",
   "execution_count": 18,
   "id": "842a46f2",
   "metadata": {},
   "outputs": [
    {
     "name": "stdout",
     "output_type": "stream",
     "text": [
      "This is a list:   [0, 0, 1, 2, 3, 3, 4.5, 7.6]\n",
      "This is a dictionary:   {'student1': '(929)-000-0000', 'student2': '(917)-000-0000', 'student3': '(470)-000-0000'}\n",
      "This is a set:   {1, 2, 4, 5}\n"
     ]
    }
   ],
   "source": [
    "some_list = [0,0,1,2,3,3,4.5,7.6]\n",
    "some_dictionary = {'student1': '(929)-000-0000', 'student2': '(917)-000-0000', 'student3': '(470)-000-0000'}\n",
    "some_set = set( [1,2,4,4,5,5] )\n",
    "\n",
    "print (\"This is a list:  \", some_list)\n",
    "print (\"This is a dictionary:  \",some_dictionary)\n",
    "print (\"This is a set:  \",some_set)"
   ]
  },
  {
   "attachments": {},
   "cell_type": "markdown",
   "id": "4d7883de",
   "metadata": {},
   "source": [
    "How can we use  **individual** elements? \n",
    "\n",
    "In Python (and generally by computer science convention), we count elements of a _list_ starting from zero! To get the first item we should look in the 0th space:\n"
   ]
  },
  {
   "attachments": {},
   "cell_type": "markdown",
   "id": "8165d5e7",
   "metadata": {},
   "source": [
    "# Creating Functions"
   ]
  },
  {
   "attachments": {},
   "cell_type": "markdown",
   "id": "34791620",
   "metadata": {},
   "source": [
    "Functions allow us to execute predefined operations and to define our own operations that will be available later.  They encapsulate procedures. If we know we are likely to execute some operation many times, we may want to save time, to avoid repeated code, and often to clarify what we are doing.  To do this, we would define a function.  \n",
    "\n",
    "(*If you haven't thought this through before, consider the drawback of repeated code: what if later you realize that you need to fix something in that code block.  You'd have to go through and fix it everywhere.*) \n",
    "\n",
    "For example, consider having to calculate the area of a circle."
   ]
  },
  {
   "cell_type": "code",
   "execution_count": 2,
   "id": "1e95318a",
   "metadata": {},
   "outputs": [],
   "source": [
    "def area_of_a_circle(radius):\n",
    "    area = 3.1416 * radius * radius\n",
    "    return area"
   ]
  },
  {
   "cell_type": "code",
   "execution_count": 3,
   "id": "082d47e9",
   "metadata": {},
   "outputs": [
    {
     "name": "stdout",
     "output_type": "stream",
     "text": [
      "Area of a circle with radius 5 is:  78.54\n"
     ]
    }
   ],
   "source": [
    "circle_area = area_of_a_circle(5)\n",
    "print (\"Area of a circle with radius 5 is: \", circle_area)\n"
   ]
  },
  {
   "attachments": {},
   "cell_type": "markdown",
   "id": "c5fee43e",
   "metadata": {},
   "source": [
    "# Loops / iterations"
   ]
  },
  {
   "attachments": {},
   "cell_type": "markdown",
   "id": "f69c63c1",
   "metadata": {},
   "source": [
    "For data analysis we do a lot of repetitive things. This doesn't mean we need to do a ton of copy and pasting, though. We can use **loops** to make this easy. As a very simple example, what if we wanted to square each number from 1 to 5?"
   ]
  },
  {
   "cell_type": "code",
   "execution_count": 32,
   "id": "27bdbf15",
   "metadata": {},
   "outputs": [
    {
     "name": "stdout",
     "output_type": "stream",
     "text": [
      "1\n",
      "4\n",
      "9\n",
      "16\n",
      "25\n"
     ]
    }
   ],
   "source": [
    "for number in [1, 2, 3, 4, 5]:\n",
    "    print (number * number)"
   ]
  },
  {
   "cell_type": "code",
   "execution_count": 41,
   "id": "8df8d78f",
   "metadata": {},
   "outputs": [
    {
     "name": "stdout",
     "output_type": "stream",
     "text": [
      "1\n",
      "4\n",
      "9\n",
      "16\n",
      "25\n"
     ]
    }
   ],
   "source": [
    "# The same thing can be done with range function\n",
    "for number in range(1,6):\n",
    "    print(number*number)"
   ]
  },
  {
   "attachments": {},
   "cell_type": "markdown",
   "id": "f0776c4c",
   "metadata": {},
   "source": [
    "# Conditionals and comparisons "
   ]
  },
  {
   "attachments": {},
   "cell_type": "markdown",
   "id": "391236e7",
   "metadata": {},
   "source": [
    "Sometimes we need to check something before deciding what to do next. For example,"
   ]
  },
  {
   "cell_type": "code",
   "execution_count": 48,
   "id": "bc9fee4a",
   "metadata": {},
   "outputs": [
    {
     "name": "stdout",
     "output_type": "stream",
     "text": [
      "The number is Even\n"
     ]
    }
   ],
   "source": [
    "n = 34\n",
    "\n",
    "if n%2==0:\n",
    "    print(\"The number is Even\")\n",
    "else:\n",
    "    print(\"The number is Odd\")"
   ]
  }
 ],
 "metadata": {
  "celltoolbar": "Raw Cell Format",
  "kernelspec": {
   "display_name": "Python 3 (ipykernel)",
   "language": "python",
   "name": "python3"
  },
  "language_info": {
   "codemirror_mode": {
    "name": "ipython",
    "version": 3
   },
   "file_extension": ".py",
   "mimetype": "text/x-python",
   "name": "python",
   "nbconvert_exporter": "python",
   "pygments_lexer": "ipython3",
   "version": "3.9.16"
  }
 },
 "nbformat": 4,
 "nbformat_minor": 5
}
